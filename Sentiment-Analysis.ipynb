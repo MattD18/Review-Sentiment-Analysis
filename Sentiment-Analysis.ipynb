{
 "cells": [
  {
   "cell_type": "code",
   "execution_count": 1,
   "metadata": {
    "collapsed": true
   },
   "outputs": [],
   "source": [
    "import pandas as pd\n",
    "import numpy as np\n",
    "import csv"
   ]
  },
  {
   "cell_type": "markdown",
   "metadata": {},
   "source": [
    "Preprocessing"
   ]
  },
  {
   "cell_type": "code",
   "execution_count": 2,
   "metadata": {},
   "outputs": [
    {
     "name": "stdout",
     "output_type": "stream",
     "text": [
      "Fraction of positive Amazon reviews: 0.5\n",
      "Fraction of positive IMDB reviews: 0.5\n",
      "Fraction of positive Yelp reviews: 0.5\n",
      "Labels are pretty much evenly balanced\n"
     ]
    }
   ],
   "source": [
    "amazon_df = pd.read_csv('data/amazon_cells_labelled.txt', \n",
    "                        sep = '\\t', \n",
    "                        header = None, \n",
    "                        names = ['review','positive'],\n",
    "                        dtype={'review': str})\n",
    "\n",
    "imdb_df = pd.read_csv('data/imdb_labelled.txt', \n",
    "                      sep = '\\t', \n",
    "                      header = None, \n",
    "                      names = ['review','positive'],\n",
    "                      dtype={'review': str},\n",
    "                      quoting = csv.QUOTE_NONE)\n",
    "\n",
    "yelp_df = pd.read_csv('data/yelp_labelled.txt', \n",
    "                      sep = '\\t', \n",
    "                      header = None, \n",
    "                      names = ['review','positive'],\n",
    "                      dtype={'review': str})\n",
    "\n",
    "print \"Fraction of positive Amazon reviews: \" + str(amazon_df['positive'].mean())\n",
    "print \"Fraction of positive IMDB reviews: \" + str(imdb_df['positive'].mean())\n",
    "print \"Fraction of positive Yelp reviews: \" + str(yelp_df['positive'].mean())\n",
    "print \"Labels are pretty much evenly balanced\""
   ]
  },
  {
   "cell_type": "markdown",
   "metadata": {},
   "source": [
    "• Lowercase all of the words."
   ]
  },
  {
   "cell_type": "code",
   "execution_count": 3,
   "metadata": {
    "collapsed": true
   },
   "outputs": [],
   "source": [
    "amazon_df['review'] = amazon_df['review'].str.lower()\n",
    "imdb_df['review'] = imdb_df['review'].str.lower()\n",
    "yelp_df['review'] = yelp_df['review'].str.lower()"
   ]
  },
  {
   "cell_type": "markdown",
   "metadata": {},
   "source": [
    "• Lemmatization of all the words (i.e., convert every word to its root so that all of “running,”\n",
    "“run,” and “runs” are converted to “run” and and all of “good,” “well,” “better,” and “best”\n",
    "are converted to “good”; this is easily done using nltk.stem)."
   ]
  },
  {
   "cell_type": "code",
   "execution_count": 4,
   "metadata": {
    "collapsed": true
   },
   "outputs": [],
   "source": [
    "from nltk.stem import WordNetLemmatizer\n",
    "from nltk.tokenize import sent_tokenize, word_tokenize\n",
    " \n",
    "def lemma(sentence):\n",
    "    wnl = WordNetLemmatizer()\n",
    "    lemma_sent = ''\n",
    "    temp = sentence.split(' ')\n",
    "    for i in temp:\n",
    "        try:\n",
    "            lemma_sent += wnl.lemmatize(i) + \" \"\n",
    "        except:\n",
    "            print i\n",
    "    return lemma_sent\n",
    "amazon_df['review'] = amazon_df['review'].apply(lemma)\n",
    "imdb_df['review'] = imdb_df['review'].str.normalize('NFKD').str.encode('ascii', errors='ignore').str.decode('utf-8').apply(lemma)\n",
    "yelp_df['review'] = yelp_df['review'].str.normalize('NFKD').str.encode('ascii', errors='ignore').str.decode('utf-8').apply(lemma)"
   ]
  },
  {
   "cell_type": "markdown",
   "metadata": {},
   "source": [
    "• Strip punctuation."
   ]
  },
  {
   "cell_type": "code",
   "execution_count": 5,
   "metadata": {
    "collapsed": true
   },
   "outputs": [],
   "source": [
    "import string\n",
    "for char in string.punctuation:\n",
    "    amazon_df['review'] = amazon_df['review'].str.replace(char, '')\n",
    "    imdb_df['review'] = imdb_df['review'].str.replace(char, '')\n",
    "    yelp_df['review'] = yelp_df['review'].str.replace(char, '')"
   ]
  },
  {
   "cell_type": "markdown",
   "metadata": {},
   "source": [
    "• Strip the stop words, e.g., “the”, “and”, “or”."
   ]
  },
  {
   "cell_type": "code",
   "execution_count": 6,
   "metadata": {
    "collapsed": true
   },
   "outputs": [],
   "source": [
    "from nltk.corpus import stopwords\n",
    "\n",
    "def strip_stop(txt):\n",
    "    s=set(stopwords.words('english'))\n",
    "    return filter(lambda w: not w in s,txt.split())\n",
    "\n",
    "amazon_df['review'] = amazon_df['review'].apply(strip_stop)\n",
    "imdb_df['review'] = imdb_df['review'].apply(strip_stop)\n",
    "yelp_df['review'] = yelp_df['review'].apply(strip_stop)"
   ]
  },
  {
   "cell_type": "markdown",
   "metadata": {},
   "source": [
    "Create training/test sets"
   ]
  },
  {
   "cell_type": "code",
   "execution_count": 7,
   "metadata": {
    "collapsed": true
   },
   "outputs": [],
   "source": [
    "amazon_train = amazon_df.loc[amazon_df['positive'] == 1,:][:400]\n",
    "amazon_train = pd.concat([amazon_train,amazon_df.loc[amazon_df['positive'] == 0,:][:400]])\n",
    "\n",
    "amazon_test = amazon_df.loc[amazon_df['positive'] == 1,:][400:]\n",
    "amazon_test = pd.concat([amazon_test,amazon_df.loc[amazon_df['positive'] == 0,:][400:]])\n",
    "\n",
    "imdb_train = imdb_df.loc[imdb_df['positive'] == 1,:][:400]\n",
    "imdb_train = pd.concat([imdb_train,imdb_df.loc[imdb_df['positive'] == 0,:][:400]])\n",
    "\n",
    "imdb_test = imdb_df.loc[imdb_df['positive'] == 1,:][400:]\n",
    "imdb_test = pd.concat([imdb_test,imdb_df.loc[imdb_df['positive'] == 0,:][400:]])\n",
    "\n",
    "yelp_train = yelp_df.loc[yelp_df['positive'] == 1,:][:400]\n",
    "yelp_train = pd.concat([yelp_train,yelp_df.loc[yelp_df['positive'] == 0,:][:400]])\n",
    "\n",
    "yelp_test = yelp_df.loc[yelp_df['positive'] == 1,:][400:]\n",
    "yelp_test = pd.concat([yelp_test,yelp_df.loc[yelp_df['positive'] == 0,:][400:]])\n",
    "\n",
    "train_df = pd.concat([amazon_train,imdb_train,yelp_train], ignore_index = True)\n",
    "test_df = pd.concat([amazon_test,imdb_test,yelp_test], ignore_index = True)"
   ]
  },
  {
   "cell_type": "markdown",
   "metadata": {},
   "source": [
    "Implemnt Bag of Words features"
   ]
  },
  {
   "cell_type": "code",
   "execution_count": null,
   "metadata": {
    "collapsed": true
   },
   "outputs": [],
   "source": [
    "word_dict = []\n",
    "for sentence in train_df['review']:\n",
    "    for word in sentence:\n",
    "        if not(word in word_dict):\n",
    "            word_dict.append(word)\n",
    "            \n",
    "train_feature_df = pd.DataFrame(data=np.zeros((train_df.shape[0],len(word_dict))), columns=word_dict)\n",
    "test_feature_df = pd.DataFrame(data=np.zeros((test_df.shape[0],len(word_dict))), columns=word_dict)\n",
    "\n",
    "def word_count(sentence, word):\n",
    "    return sentence.count(word)\n",
    "\n",
    "for word in word_dict:\n",
    "    train_feature_df[word] = train_df['review'].apply(word_count, args=(word,))\n",
    "    test_feature_df[word] = test_df['review'].apply(word_count, args=(word,))"
   ]
  },
  {
   "cell_type": "markdown",
   "metadata": {},
   "source": [
    "log normalize featuers"
   ]
  },
  {
   "cell_type": "markdown",
   "metadata": {},
   "source": [
    "https://en.wikipedia.org/wiki/Zipf%27s_law"
   ]
  },
  {
   "cell_type": "code",
   "execution_count": null,
   "metadata": {
    "collapsed": true
   },
   "outputs": [],
   "source": [
    "for word in word_dict:\n",
    "    train_feature_df[word] = np.log(train_feature_df[word] + 1)\n",
    "    test_feature_df[word] = np.log(test_feature_df[word] + 1)\n",
    "train_df = train_df.rename(columns={'review':'bag_of_words','positive':'positive_sentiment'})\n",
    "test_df = test_df.rename(columns={'review':'bag_of_words','positive':'positive_sentiment'})\n",
    "train_df = pd.concat([train_df, train_feature_df], axis = 1)\n",
    "test_df = pd.concat([test_df, test_feature_df], axis = 1)"
   ]
  },
  {
   "cell_type": "code",
   "execution_count": null,
   "metadata": {},
   "outputs": [],
   "source": [
    "train_df.head()"
   ]
  },
  {
   "cell_type": "markdown",
   "metadata": {},
   "source": [
    "Naive Bayes Model"
   ]
  },
  {
   "cell_type": "code",
   "execution_count": 12,
   "metadata": {
    "collapsed": true
   },
   "outputs": [],
   "source": [
    "class nb_classifier:\n",
    "    \n",
    "    def __init__(self, alpha,word_dict):\n",
    "        self.alpha = alpha\n",
    "        self.word_dict = word_dict\n",
    "        self.training_data = pd.DataFrame()\n",
    "        self.pos_freq = 0\n",
    "        self.neg_freq = 0\n",
    "        self.pos_features_table = pd.Series()\n",
    "        self.neg_features_table = pd.Series()\n",
    "        self.pos_no_features_table = pd.Series()\n",
    "        self.neg_no_features_table = pd.Series()\n",
    "        \n",
    "    def train(self, train_df):\n",
    "        self.pos_freq = train_df['positive_sentiment'].sum() / float(train_df['positive_sentiment'].shape[0])\n",
    "        self.neg_freq = 1 - self.pos_freq\n",
    "\n",
    "        self.pos_train_df = train_df.loc[train_df['positive_sentiment'] == 1,self.word_dict]\n",
    "        self.neg_train_df = train_df.loc[train_df['positive_sentiment'] == 0,self.word_dict]\n",
    "\n",
    "        self.pos_features_table = ((self.pos_train_df != 0).sum() + self.alpha) / (float(self.pos_train_df.shape[0]) + self.alpha)\n",
    "        self.neg_features_table = ((self.neg_train_df != 0).sum() + self.alpha) / (float(self.neg_train_df.shape[0]) + self.alpha)\n",
    "        self.pos_no_features_table = ((self.pos_train_df == 0).sum() + self.alpha) / (float(self.pos_train_df.shape[0]) + self.alpha)\n",
    "        self.neg_no_features_table = ((self.neg_train_df == 0).sum() + self.alpha) / (float(self.neg_train_df.shape[0]) + self.alpha)\n",
    "        \n",
    "    def predict(self, test_point, alpha = .1):\n",
    "        self.alpha = alpha\n",
    "\n",
    "        feature = test_point[self.word_dict]\n",
    "        p = len(feature)\n",
    "        pos_features_freq = np.ndarray(p)\n",
    "        neg_features_freq = np.ndarray(p)\n",
    "\n",
    "        for i in range(0,p):\n",
    "            f = feature.index[i]\n",
    "            if feature[i] > 0:\n",
    "                pos_features_freq[i] = self.pos_features_table[f]\n",
    "                neg_features_freq[i] = self.neg_features_table[f]\n",
    "            else:\n",
    "                pos_features_freq[i] = self.pos_no_features_table[f]\n",
    "                neg_features_freq[i] = self.neg_no_features_table[f]\n",
    "        \n",
    "        log_odds = np.log(self.pos_freq/self.neg_freq) + np.sum(np.log(pos_features_freq / neg_features_freq))\n",
    "\n",
    "        prediction = 0\n",
    "        if log_odds > 0:\n",
    "            prediction = 1\n",
    "\n",
    "        return prediction\n"
   ]
  },
  {
   "cell_type": "code",
   "execution_count": 13,
   "metadata": {},
   "outputs": [
    {
     "name": "stdout",
     "output_type": "stream",
     "text": [
      "0.785\n",
      "106.201644182\n"
     ]
    }
   ],
   "source": [
    "import time\n",
    "t = time.time()\n",
    "prediction = []\n",
    "nb = nb_classifier(alpha = .1, word_dict = word_dict)\n",
    "nb.train(train_df)\n",
    "for i in test_df.index:\n",
    "    test_point = test_df.loc[i,:]\n",
    "    pred = nb.predict(test_point)\n",
    "    prediction.append(pred)\n",
    "print 1 - np.abs((np.array(prediction) - test_df['positive_sentiment'])).mean()\n",
    "print time.time() - t"
   ]
  },
  {
   "cell_type": "code",
   "execution_count": 14,
   "metadata": {},
   "outputs": [
    {
     "data": {
      "text/plain": [
       "array([[250,  50],\n",
       "       [ 79, 221]])"
      ]
     },
     "execution_count": 14,
     "metadata": {},
     "output_type": "execute_result"
    }
   ],
   "source": [
    "from sklearn.metrics import confusion_matrix\n",
    "confusion_matrix(test_df['positive_sentiment'], np.array(prediction))"
   ]
  },
  {
   "cell_type": "markdown",
   "metadata": {},
   "source": [
    "Logisic Regression Models"
   ]
  },
  {
   "cell_type": "code",
   "execution_count": 15,
   "metadata": {},
   "outputs": [
    {
     "name": "stdout",
     "output_type": "stream",
     "text": [
      "0.805\n",
      "CPU times: user 4 µs, sys: 1e+03 ns, total: 5 µs\n",
      "Wall time: 11 µs\n",
      "0.79\n",
      "CPU times: user 4 µs, sys: 0 ns, total: 4 µs\n",
      "Wall time: 10 µs\n"
     ]
    }
   ],
   "source": [
    "from sklearn.linear_model import LogisticRegressionCV\n",
    "\n",
    "\n",
    "X_train = train_df[word_dict]\n",
    "y_train = train_df['positive_sentiment']\n",
    "\n",
    "X_test = test_df[word_dict]\n",
    "y_test = test_df['positive_sentiment']\n",
    "\n",
    "log_l2_model = LogisticRegressionCV(fit_intercept = False, cv = 10, penalty = 'l2')\n",
    "log_l2_model.fit(X_train, y_train)\n",
    "\n",
    "y_l2_pred = log_l2_model.predict(X_test)\n",
    "\n",
    "print 1 - np.abs((np.array(y_l2_pred) - y_test)).mean()\n",
    "\n",
    "%time \n",
    "\n",
    "X_train = train_df[word_dict]\n",
    "y_train = train_df['positive_sentiment']\n",
    "\n",
    "X_test = test_df[word_dict]\n",
    "y_test = test_df['positive_sentiment']\n",
    "\n",
    "log_l1_model = LogisticRegressionCV(fit_intercept = False, cv = 10, solver = 'liblinear', penalty = 'l1')\n",
    "log_l1_model.fit(X_train, y_train)\n",
    "\n",
    "y_l1_pred = log_l1_model.predict(X_test)\n",
    "\n",
    "print 1 - np.abs((np.array(y_l1_pred) - y_test)).mean()\n",
    "\n",
    "%time"
   ]
  },
  {
   "cell_type": "code",
   "execution_count": 16,
   "metadata": {},
   "outputs": [
    {
     "data": {
      "image/png": "[encoded data removed]",
      "text/plain": [
       "<matplotlib.figure.Figure at 0x109a47850>"
      ]
     },
     "metadata": {},
     "output_type": "display_data"
    }
   ],
   "source": [
    "import matplotlib.pyplot as plt\n",
    "%matplotlib inline\n",
    "\n",
    "plt.hist(log_l2_model.coef_.flatten(), bins = 20, label = 'l2 regularization', alpha = .5)\n",
    "plt.hist(log_l1_model.coef_.flatten(), bins = 20, label = 'l1 regularization', alpha = .5)\n",
    "plt.legend(loc='upper right', prop={'size': 9})\n",
    "plt.title(\"Logisitic Regression Model Coefficients\")\n",
    "plt.show()"
   ]
  },
  {
   "cell_type": "code",
   "execution_count": 17,
   "metadata": {},
   "outputs": [
    {
     "name": "stdout",
     "output_type": "stream",
     "text": [
      "Important Features (Ridge)[u'excellent' u'great' u'love' u'poor' u'bad' u'worst' u'delicious']\n",
      "Important Features (Lasso)[u'excellent' u'great' u'loved' u'beautiful' u'awesome' u'poor' u'failed'\n",
      " u'disappointment' u'starter' u'stupid' u'unfortunately' u'interesting'\n",
      " u'played' u'arent' u'wouldve' u'delicious']\n"
     ]
    }
   ],
   "source": [
    "print \"Important Features (Ridge)\" + str(np.array(word_dict)[(np.abs(log_l2_model.coef_.flatten()) > 3)])\n",
    "print \"Important Features (Lasso)\" + str(np.array(word_dict)[(np.abs(log_l1_model.coef_.flatten()) > 5)])\n"
   ]
  },
  {
   "cell_type": "markdown",
   "metadata": {
    "collapsed": true
   },
   "source": [
    "Implement digram features"
   ]
  },
  {
   "cell_type": "code",
   "execution_count": 18,
   "metadata": {
    "collapsed": true
   },
   "outputs": [],
   "source": [
    "ngram_df = pd.read_csv('amazon_cells_labelled.txt', \n",
    "                        sep = '\\t', \n",
    "                        header = None, \n",
    "                        names = ['review','positive'],\n",
    "                        dtype={'review': str})\n",
    "ngram_df = ngram_df = pd.concat([ngram_df,pd.read_csv('imdb_labelled.txt', \n",
    "                      sep = '\\t', \n",
    "                      header = None, \n",
    "                      names = ['review','positive'],\n",
    "                      dtype={'review': str},\n",
    "                      quoting = csv.QUOTE_NONE)])\n",
    "ngram_df = ngram_df = pd.concat([ngram_df,pd.read_csv('yelp_labelled.txt', \n",
    "                      sep = '\\t', \n",
    "                      header = None, \n",
    "                      names = ['review','positive'],\n",
    "                      dtype={'review': str})])\n",
    "\n",
    "ngram_df = ngram_df.reset_index(drop = True)\n",
    "\n",
    "ngram_df['review'] = ngram_df['review'].str.lower()\n",
    "ngram_df['review'] = ngram_df['review'].str.normalize('NFKD').str.encode('ascii', errors='ignore').str.decode('utf-8').apply(lemma)\n",
    "\n",
    "for char in string.punctuation:\n",
    "    ngram_df['review'] = ngram_df['review'].str.replace(char, '')\n",
    "\n",
    "# for sw in set(stopwords.words('english')):\n",
    "#     ngram_df['review'] =ngram_df['review'].str.replace(' ' + sw + ' ',' ')\n",
    "\n"
   ]
  },
  {
   "cell_type": "code",
   "execution_count": 19,
   "metadata": {
    "collapsed": true
   },
   "outputs": [],
   "source": [
    "from sklearn.model_selection import train_test_split\n",
    "ng_train_df_pos,ng_test_df_pos,ng_train_df_neg,ng_test_df_neg = train_test_split(ngram_df.loc[ngram_df['positive'] == 1,:],\n",
    "                                                                                 ngram_df.loc[ngram_df['positive'] == 0,:],\n",
    "                                                                                 test_size = .2,\n",
    "                                                                                 random_state = 10)\n",
    "ng_train_df = pd.concat([ng_train_df_pos,ng_train_df_neg])\n",
    "ng_train_df = ng_train_df.reset_index(drop = True)\n",
    "ng_test_df = pd.concat([ng_test_df_pos,ng_test_df_neg])\n",
    "ng_test_df = ng_test_df.reset_index(drop = True)"
   ]
  },
  {
   "cell_type": "code",
   "execution_count": 20,
   "metadata": {
    "collapsed": true
   },
   "outputs": [],
   "source": [
    "def ngrams(s, n):\n",
    "    s = s.split(' ')\n",
    "    output = []\n",
    "    for i in range(len(s)-n+1):\n",
    "        output.append(s[i:i+n])\n",
    "    output = [' '.join(output[i]) for i in range(0,len(output))]\n",
    "    return output\n",
    "\n",
    "ng_train_df['ngrams'] = ng_train_df['review'].apply(ngrams, args =(2,))\n",
    "ng_test_df['ngrams'] = ng_test_df['review'].apply(ngrams, args =(2,))\n"
   ]
  },
  {
   "cell_type": "code",
   "execution_count": 21,
   "metadata": {
    "collapsed": true
   },
   "outputs": [],
   "source": [
    "ngram_dict = []\n",
    "for ngram_list in ng_train_df['ngrams']:\n",
    "    for ng in ngram_list:\n",
    "        if not(ng in ngram_dict):\n",
    "            ngram_dict.append(ng)\n",
    "            \n",
    "ng_train_feature_df = pd.DataFrame(data=np.zeros((ng_train_df.shape[0],len(ngram_dict))), columns=ngram_dict)\n",
    "ng_test_feature_df = pd.DataFrame(data=np.zeros((ng_test_df.shape[0],len(ngram_dict))), columns=ngram_dict)\n",
    "ng_train_df = pd.concat([ng_train_df,ng_train_feature_df], axis = 1)\n",
    "ng_test_df = pd.concat([ng_test_df,ng_test_feature_df], axis = 1)"
   ]
  },
  {
   "cell_type": "code",
   "execution_count": 22,
   "metadata": {},
   "outputs": [
    {
     "name": "stdout",
     "output_type": "stream",
     "text": [
      "CPU times: user 3 µs, sys: 0 ns, total: 3 µs\n",
      "Wall time: 6.2 µs\n"
     ]
    }
   ],
   "source": [
    "def ngram_count(sentence, ngram):\n",
    "    return sentence.count(ngram)\n",
    "\n",
    "for ngram in ngram_dict:\n",
    "    ng_train_df[ngram] = ng_train_df['ngrams'].apply(ngram_count, args=(ngram,))\n",
    "    ng_test_df[ngram]= ng_test_df['ngrams'].apply(ngram_count, args=(ngram,))\n",
    "%time"
   ]
  },
  {
   "cell_type": "code",
   "execution_count": 23,
   "metadata": {
    "collapsed": true
   },
   "outputs": [],
   "source": [
    "for ngram in ngram_dict:\n",
    "    ng_train_df[ngram] = np.log(ng_train_df[ngram] + 1)\n",
    "    ng_test_df[ngram] = np.log(ng_test_df[ngram] + 1)"
   ]
  },
  {
   "cell_type": "markdown",
   "metadata": {},
   "source": [
    "Naive Bayes"
   ]
  },
  {
   "cell_type": "code",
   "execution_count": 24,
   "metadata": {},
   "outputs": [
    {
     "name": "stdout",
     "output_type": "stream",
     "text": [
      "0.76\n",
      "454.950337887\n"
     ]
    }
   ],
   "source": [
    "\n",
    "\n",
    "ng_train_df = ng_train_df.rename(columns={'review':'bag_of_words','positive':'positive_sentiment'})\n",
    "ng_test_df = ng_test_df.rename(columns={'review':'bag_of_words','positive':'positive_sentiment'})\n",
    "\n",
    "sample_test_df = ng_test_df\n",
    "import time\n",
    "t = time.time()\n",
    "prediction = []\n",
    "ng_nb = nb_classifier(.1,ngram_dict)\n",
    "ng_nb.train(ng_train_df)\n",
    "for i in sample_test_df.index:\n",
    "    test_point = sample_test_df.loc[i,:]\n",
    "    ng_pred = ng_nb.predict(test_point)\n",
    "    prediction.append(ng_pred)\n",
    "print 1 - np.abs((np.array(prediction) - sample_test_df['positive_sentiment'])).mean()\n",
    "print time.time() - t"
   ]
  },
  {
   "cell_type": "code",
   "execution_count": 25,
   "metadata": {},
   "outputs": [
    {
     "data": {
      "text/plain": [
       "array([[222,  78],\n",
       "       [ 66, 234]])"
      ]
     },
     "execution_count": 25,
     "metadata": {},
     "output_type": "execute_result"
    }
   ],
   "source": [
    "from sklearn.metrics import confusion_matrix\n",
    "confusion_matrix(sample_test_df['positive_sentiment'], np.array(prediction))"
   ]
  },
  {
   "cell_type": "markdown",
   "metadata": {},
   "source": [
    "Regression Models"
   ]
  },
  {
   "cell_type": "code",
   "execution_count": 27,
   "metadata": {},
   "outputs": [
    {
     "name": "stdout",
     "output_type": "stream",
     "text": [
      "0.736666666667\n",
      "CPU times: user 2 µs, sys: 0 ns, total: 2 µs\n",
      "Wall time: 7.15 µs\n",
      "0.748333333333\n",
      "CPU times: user 3 µs, sys: 4 µs, total: 7 µs\n",
      "Wall time: 8.11 µs\n"
     ]
    }
   ],
   "source": [
    "from sklearn.linear_model import LogisticRegressionCV\n",
    "\n",
    "\n",
    "X_train = ng_train_df[ngram_dict]\n",
    "y_train = ng_train_df['positive_sentiment']\n",
    "\n",
    "X_test = ng_test_df[ngram_dict]\n",
    "y_test = ng_test_df['positive_sentiment']\n",
    "\n",
    "log_l2_model = LogisticRegressionCV(fit_intercept = False, cv = 10, penalty = 'l2')\n",
    "log_l2_model.fit(X_train, y_train)\n",
    "\n",
    "y_l2_pred = log_l2_model.predict(X_test)\n",
    "\n",
    "print 1 - np.abs((np.array(y_l2_pred) - y_test)).mean()\n",
    "\n",
    "%time \n",
    "\n",
    "X_train = ng_train_df[ngram_dict]\n",
    "y_train = ng_train_df['positive_sentiment']\n",
    "\n",
    "X_test = ng_test_df[ngram_dict]\n",
    "y_test = ng_test_df['positive_sentiment']\n",
    "\n",
    "log_l1_model = LogisticRegressionCV(fit_intercept = False, cv = 10, solver = 'liblinear', penalty = 'l1')\n",
    "log_l1_model.fit(X_train, y_train)\n",
    "\n",
    "y_l1_pred = log_l1_model.predict(X_test)\n",
    "\n",
    "print 1 - np.abs((np.array(y_l1_pred) - y_test)).mean()\n",
    "\n",
    "%time"
   ]
  },
  {
   "cell_type": "code",
   "execution_count": 28,
   "metadata": {},
   "outputs": [
    {
     "data": {
      "image/png": "[encoded data removed]",
      "text/plain": [
       "<matplotlib.figure.Figure at 0x118e85ad0>"
      ]
     },
     "metadata": {},
     "output_type": "display_data"
    }
   ],
   "source": [
    "import matplotlib.pyplot as plt\n",
    "%matplotlib inline\n",
    "\n",
    "plt.hist(log_l2_model.coef_.flatten(), bins = 20, label = 'l2 regularization', alpha = .5)\n",
    "plt.hist(log_l1_model.coef_.flatten(), bins = 20, label = 'l1 regularization', alpha = .5)\n",
    "plt.legend(loc='upper right', prop={'size': 9})\n",
    "plt.title(\"N-gram Logisitic Regression Model Coefficients\")\n",
    "plt.show()"
   ]
  },
  {
   "cell_type": "code",
   "execution_count": 29,
   "metadata": {},
   "outputs": [
    {
     "name": "stdout",
     "output_type": "stream",
     "text": [
      "N-gram Important Features (Ridge)[u'a great' u'amazing ' u'be disappointed' u'bad ' u'awful ' u'the worst'\n",
      " u'not good' u'horrible phone']\n",
      "N-gram Important Features (Lasso)[u'fantastic food' u'not easy' u'not recommended' u'lousy product'\n",
      " u'horrible phone' u'worthless product' u'poor product' u'poor sound']\n"
     ]
    }
   ],
   "source": [
    "print \"N-gram Important Features (Ridge)\" + str(np.array(ngram_dict)[(np.abs(log_l2_model.coef_.flatten()) > 6)])\n",
    "print \"N-gram Important Features (Lasso)\" + str(np.array(ngram_dict)[(np.abs(log_l1_model.coef_.flatten()) > 14)])\n"
   ]
  }
 ],
 "metadata": {
  "kernelspec": {
   "display_name": "Python 2",
   "language": "python",
   "name": "python2"
  },
  "language_info": {
   "codemirror_mode": {
    "name": "ipython",
    "version": 2
   },
   "file_extension": ".py",
   "mimetype": "text/x-python",
   "name": "python",
   "nbconvert_exporter": "python",
   "pygments_lexer": "ipython2",
   "version": "2.7.13"
  }
 },
 "nbformat": 4,
 "nbformat_minor": 2
}
